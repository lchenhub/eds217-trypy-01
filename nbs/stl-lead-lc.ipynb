{
 "cells": [
  {
   "cell_type": "code",
   "execution_count": 15,
   "metadata": {},
   "outputs": [],
   "source": [
    "import pandas as pd\n",
    "import numpy as np\n",
    "import matplotlib.pyplot as plt"
   ]
  },
  {
   "cell_type": "code",
   "execution_count": 9,
   "metadata": {},
   "outputs": [],
   "source": [
    "stl_lead = pd.read_csv('https://raw.githubusercontent.com/'\\\n",
    "'allisonhorst/EDS_221_programming-essentials/'\\\n",
    "'main/activities/stl_blood_lead.csv')"
   ]
  },
  {
   "cell_type": "code",
   "execution_count": 10,
   "metadata": {},
   "outputs": [
    {
     "data": {
      "text/plain": [
       "<bound method DataFrame.info of            geoID  tractCE              nameLSAD  countTested  pctElevated  \\\n",
       "0    29510118100   118100     Census Tract 1181          345         9.57   \n",
       "1    29510117400   117400     Census Tract 1174          871        12.06   \n",
       "2    29510126700   126700     Census Tract 1267          458        18.12   \n",
       "3    29510119102   119102  Census Tract 1191.02          182         2.20   \n",
       "4    29510126800   126800     Census Tract 1268          486         4.73   \n",
       "..           ...      ...                   ...          ...          ...   \n",
       "101  29510102300   102300     Census Tract 1023          298         4.36   \n",
       "102  29510109700   109700     Census Tract 1097         1070        15.79   \n",
       "103  29510102400   102400     Census Tract 1024          544         8.82   \n",
       "104  29510106200   106200     Census Tract 1062         1107        11.38   \n",
       "105  29510109600   109600     Census Tract 1096          952        21.74   \n",
       "\n",
       "     totalPop  totalPop_MOE  white  white_MOE  black  black_MOE  povertyTot  \\\n",
       "0        1161           192    414        100    724        179         324   \n",
       "1        4307           447   2604        303   1338        374         615   \n",
       "2        1089           199    432        116    631        187         506   \n",
       "3        3237           309   2008        262    646        210         958   \n",
       "4        3490           231   3026        270    194         98         349   \n",
       "..        ...           ...    ...        ...    ...        ...         ...   \n",
       "101      1987           218   1840        213     35         49         351   \n",
       "102      2239           357    274        184   1949        329        1212   \n",
       "103      2673           205   2387        225    224        155         642   \n",
       "104      1825           325      9         20   1807        331        1176   \n",
       "105      3222           555     45         40   3153        548         845   \n",
       "\n",
       "     povertyTot_MOE  povertyU18  povertyU18_MOE  \n",
       "0               140         109             105  \n",
       "1               255         169             156  \n",
       "2               164          98              60  \n",
       "3               234          15              25  \n",
       "4               129          35              47  \n",
       "..              ...         ...             ...  \n",
       "101             238          92              89  \n",
       "102             331         493             211  \n",
       "103             266         274             162  \n",
       "104             341         606             239  \n",
       "105             435         391             302  \n",
       "\n",
       "[106 rows x 15 columns]>"
      ]
     },
     "execution_count": 10,
     "metadata": {},
     "output_type": "execute_result"
    }
   ],
   "source": [
    "stl_lead.info"
   ]
  },
  {
   "cell_type": "code",
   "execution_count": 11,
   "metadata": {},
   "outputs": [
    {
     "data": {
      "text/plain": [
       "<bound method NDFrame.describe of            geoID  tractCE              nameLSAD  countTested  pctElevated  \\\n",
       "0    29510118100   118100     Census Tract 1181          345         9.57   \n",
       "1    29510117400   117400     Census Tract 1174          871        12.06   \n",
       "2    29510126700   126700     Census Tract 1267          458        18.12   \n",
       "3    29510119102   119102  Census Tract 1191.02          182         2.20   \n",
       "4    29510126800   126800     Census Tract 1268          486         4.73   \n",
       "..           ...      ...                   ...          ...          ...   \n",
       "101  29510102300   102300     Census Tract 1023          298         4.36   \n",
       "102  29510109700   109700     Census Tract 1097         1070        15.79   \n",
       "103  29510102400   102400     Census Tract 1024          544         8.82   \n",
       "104  29510106200   106200     Census Tract 1062         1107        11.38   \n",
       "105  29510109600   109600     Census Tract 1096          952        21.74   \n",
       "\n",
       "     totalPop  totalPop_MOE  white  white_MOE  black  black_MOE  povertyTot  \\\n",
       "0        1161           192    414        100    724        179         324   \n",
       "1        4307           447   2604        303   1338        374         615   \n",
       "2        1089           199    432        116    631        187         506   \n",
       "3        3237           309   2008        262    646        210         958   \n",
       "4        3490           231   3026        270    194         98         349   \n",
       "..        ...           ...    ...        ...    ...        ...         ...   \n",
       "101      1987           218   1840        213     35         49         351   \n",
       "102      2239           357    274        184   1949        329        1212   \n",
       "103      2673           205   2387        225    224        155         642   \n",
       "104      1825           325      9         20   1807        331        1176   \n",
       "105      3222           555     45         40   3153        548         845   \n",
       "\n",
       "     povertyTot_MOE  povertyU18  povertyU18_MOE  \n",
       "0               140         109             105  \n",
       "1               255         169             156  \n",
       "2               164          98              60  \n",
       "3               234          15              25  \n",
       "4               129          35              47  \n",
       "..              ...         ...             ...  \n",
       "101             238          92              89  \n",
       "102             331         493             211  \n",
       "103             266         274             162  \n",
       "104             341         606             239  \n",
       "105             435         391             302  \n",
       "\n",
       "[106 rows x 15 columns]>"
      ]
     },
     "execution_count": 11,
     "metadata": {},
     "output_type": "execute_result"
    }
   ],
   "source": [
    "stl_lead.describe"
   ]
  },
  {
   "cell_type": "code",
   "execution_count": 14,
   "metadata": {},
   "outputs": [],
   "source": [
    "stl_lead['pop_white'] = stl_lead['white'] / stl_lead['totalPop']"
   ]
  },
  {
   "cell_type": "code",
   "execution_count": 16,
   "metadata": {},
   "outputs": [
    {
     "data": {
      "text/plain": [
       "[<matplotlib.lines.Line2D at 0x7fdf183bec80>]"
      ]
     },
     "execution_count": 16,
     "metadata": {},
     "output_type": "execute_result"
    },
    {
     "data": {
      "image/png": "[encoded data removed]",
      "text/plain": [
       "<Figure size 640x480 with 1 Axes>"
      ]
     },
     "metadata": {},
     "output_type": "display_data"
    }
   ],
   "source": [
    "#| echo: false\n",
    "#| eval: false\n",
    "\n",
    "plt.plot(stl_lead['prop_white'], stl_lead['pctElevated'],'.')"
   ]
  },
  {
   "cell_type": "code",
   "execution_count": 18,
   "metadata": {},
   "outputs": [
    {
     "data": {
      "image/png": "[encoded data removed]",
      "text/plain": [
       "<Figure size 1000x700 with 1 Axes>"
      ]
     },
     "metadata": {},
     "output_type": "display_data"
    }
   ],
   "source": [
    "# Creating histogram\n",
    "fig, ax = plt.subplots(figsize =(10, 7))\n",
    "a = stl_lead['pctElevated']\n",
    "ax.hist('pctElevated', bins = [0, 25, 50, 75, 100])\n",
    " \n",
    "# Show plot\n",
    "plt.show()"
   ]
  },
  {
   "cell_type": "code",
   "execution_count": 23,
   "metadata": {},
   "outputs": [
    {
     "ename": "TypeError",
     "evalue": "'str' object is not callable",
     "output_type": "error",
     "traceback": [
      "\u001b[0;31m---------------------------------------------------------------------------\u001b[0m",
      "\u001b[0;31mTypeError\u001b[0m                                 Traceback (most recent call last)",
      "Cell \u001b[0;32mIn[23], line 2\u001b[0m\n\u001b[1;32m      1\u001b[0m stl_lead[\u001b[39m'\u001b[39m\u001b[39mpctElevated\u001b[39m\u001b[39m'\u001b[39m]\u001b[39m.\u001b[39mhist\n\u001b[0;32m----> 2\u001b[0m plt\u001b[39m.\u001b[39;49mxlabel (\u001b[39m\"\u001b[39;49m\u001b[39mpctElevated\u001b[39;49m\u001b[39m\"\u001b[39;49m)\n\u001b[1;32m      3\u001b[0m plt\u001b[39m.\u001b[39mylabel(\u001b[39m\"\u001b[39m\u001b[39mlevels\u001b[39m\u001b[39m\"\u001b[39m)\n\u001b[1;32m      4\u001b[0m plt\u001b[39m.\u001b[39mtitle(\u001b[39m'\u001b[39m\u001b[39mElevated pct levels\u001b[39m\u001b[39m'\u001b[39m)\n",
      "\u001b[0;31mTypeError\u001b[0m: 'str' object is not callable"
     ]
    }
   ],
   "source": [
    "stl_lead['pctElevated'].hist\n",
    "plt.xlabel (\"pctElevated\")\n",
    "plt.ylabel(\"levels\")\n",
    "plt.title('Elevated pct levels')"
   ]
  }
 ],
 "metadata": {
  "kernelspec": {
   "display_name": "eds217_2023",
   "language": "python",
   "name": "python3"
  },
  "language_info": {
   "codemirror_mode": {
    "name": "ipython",
    "version": 3
   },
   "file_extension": ".py",
   "mimetype": "text/x-python",
   "name": "python",
   "nbconvert_exporter": "python",
   "pygments_lexer": "ipython3",
   "version": "3.10.12"
  },
  "orig_nbformat": 4
 },
 "nbformat": 4,
 "nbformat_minor": 2
}
